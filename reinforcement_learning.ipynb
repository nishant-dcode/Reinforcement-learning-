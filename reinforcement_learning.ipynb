{
  "nbformat": 4,
  "nbformat_minor": 0,
  "metadata": {
    "colab": {
      "provenance": []
    },
    "kernelspec": {
      "name": "python3",
      "display_name": "Python 3"
    },
    "language_info": {
      "name": "python"
    }
  },
  "cells": [
    {
      "cell_type": "code",
      "source": [
        "import numpy as np\n",
        "import gym\n",
        "\n",
        "# Create the Taxi-v3 environment\n",
        "env = gym.make(\"Taxi-v3\")\n",
        "\n",
        "# Initialize the Q-table with zeros\n",
        "num_states = env.observation_space.n\n",
        "num_actions = env.action_space.n\n",
        "Q = np.zeros((num_states, num_actions))\n",
        "\n",
        "# Q-learning parameters\n",
        "learning_rate = 0.8\n",
        "discount_factor = 0.95\n",
        "num_episodes = 10000\n",
        "max_steps_per_episode = 100\n",
        "\n",
        "# Q-learning algorithm\n",
        "for episode in range(num_episodes):\n",
        "    state = env.reset()\n",
        "    done = False\n",
        "\n",
        "    for step in range(max_steps_per_episode):\n",
        "        # Choose an action using epsilon-greedy policy\n",
        "        epsilon = 0.1\n",
        "        if np.random.uniform(0, 1) < epsilon:\n",
        "            action = env.action_space.sample()  # Explore\n",
        "        else:\n",
        "            action = np.argmax(Q[state, :])  # Exploit\n",
        "\n",
        "        # Take the chosen action\n",
        "        next_state, reward, done, _ = env.step(action)\n",
        "\n",
        "        # Update the Q-table using the Q-learning update rule\n",
        "        Q[state, action] = (1 - learning_rate) * Q[state, action] + \\\n",
        "                          learning_rate * (reward + discount_factor * np.max(Q[next_state, :]))\n",
        "\n",
        "        state = next_state\n",
        "\n",
        "        if done:\n",
        "            break\n",
        "\n",
        "# Evaluate the trained Q-table\n",
        "num_eval_episodes = 100\n",
        "total_rewards = 0\n",
        "\n",
        "for _ in range(num_eval_episodes):\n",
        "    state = env.reset()\n",
        "    done = False\n",
        "\n",
        "    while not done:\n",
        "        action = np.argmax(Q[state, :])\n",
        "        state, reward, done, _ = env.step(action)\n",
        "        total_rewards += reward\n",
        "\n",
        "average_reward = total_rewards / num_eval_episodes\n",
        "print(f\"Average Reward: {average_reward}\")\n"
      ],
      "metadata": {
        "id": "pl31AeQ8EbLx",
        "colab": {
          "base_uri": "https://localhost:8080/"
        },
        "outputId": "e528b07a-515a-45a1-fc61-a0aed31a977e"
      },
      "execution_count": null,
      "outputs": [
        {
          "output_type": "stream",
          "name": "stderr",
          "text": [
            "/usr/local/lib/python3.10/dist-packages/gym/core.py:317: DeprecationWarning: \u001b[33mWARN: Initializing wrapper in old step API which returns one bool instead of two. It is recommended to set `new_step_api=True` to use new step API. This will be the default behaviour in future.\u001b[0m\n",
            "  deprecation(\n",
            "/usr/local/lib/python3.10/dist-packages/gym/wrappers/step_api_compatibility.py:39: DeprecationWarning: \u001b[33mWARN: Initializing environment in old step API which returns one bool instead of two. It is recommended to set `new_step_api=True` to use new step API. This will be the default behaviour in future.\u001b[0m\n",
            "  deprecation(\n"
          ]
        },
        {
          "output_type": "stream",
          "name": "stdout",
          "text": [
            "Average Reward: 7.9\n"
          ]
        }
      ]
    },
    {
      "cell_type": "code",
      "source": [
        "import numpy as np\n",
        "import gym\n",
        "import matplotlib.pyplot as plt\n",
        "\n",
        "def q_learning(env, num_episodes=10000, max_steps_per_episode=100, learning_rate=0.8, discount_factor=0.70, epsilon=1.0, epsilon_decay=0.989, min_epsilon=0.1):\n",
        "    num_states = env.observation_space.n\n",
        "    num_actions = env.action_space.n\n",
        "    Q = np.zeros((num_states, num_actions))\n",
        "\n",
        "    rewards_all_episodes = []\n",
        "\n",
        "    for episode in range(num_episodes):\n",
        "        state = env.reset()\n",
        "        done = False\n",
        "        rewards_current_episode = 0\n",
        "\n",
        "        for step in range(max_steps_per_episode):\n",
        "            if np.random.uniform(0, 1) < epsilon:\n",
        "                action = env.action_space.sample()  # Explore\n",
        "            else:\n",
        "                action = np.argmax(Q[state, :])  # Exploit\n",
        "\n",
        "            next_state, reward, done, _ = env.step(action)\n",
        "\n",
        "            Q[state, action] = (1 - learning_rate) * Q[state, action] + \\\n",
        "                               learning_rate * (reward + discount_factor * np.max(Q[next_state, :]))\n",
        "\n",
        "            state = next_state\n",
        "            rewards_current_episode += reward\n",
        "\n",
        "            if done:\n",
        "                break\n",
        "\n",
        "        epsilon = max(min_epsilon, epsilon * epsilon_decay)\n",
        "        rewards_all_episodes.append(rewards_current_episode)\n",
        "\n",
        "    return Q, rewards_all_episodes\n",
        "\n",
        "def evaluate_policy(env, Q, num_eval_episodes=100):\n",
        "    total_rewards = 0\n",
        "\n",
        "    for _ in range(num_eval_episodes):\n",
        "        state = env.reset()\n",
        "        done = False\n",
        "\n",
        "        while not done:\n",
        "            action = np.argmax(Q[state, :])\n",
        "            state, reward, done, _ = env.step(action)\n",
        "            total_rewards += reward\n",
        "\n",
        "    average_reward = total_rewards / num_eval_episodes\n",
        "    return average_reward\n",
        "\n",
        "def plot_rewards(rewards, title=\"Rewards per Episode\"):\n",
        "    plt.plot(rewards)\n",
        "    plt.xlabel('Episode')\n",
        "    plt.ylabel('Reward')\n",
        "    plt.title(title)\n",
        "    plt.show()\n",
        "\n",
        "# Create the Taxi-v3 environment\n",
        "env = gym.make(\"Taxi-v3\")\n",
        "\n",
        "# Train the Q-learning agent\n",
        "Q, rewards_all_episodes = q_learning(env)\n",
        "\n",
        "# Evaluate the trained Q-table\n",
        "average_reward = evaluate_policy(env, Q)\n",
        "print(f\"Average Reward: {average_reward}\")\n",
        "\n",
        "# Plot the rewards\n",
        "plot_rewards(rewards_all_episodes)\n"
      ],
      "metadata": {
        "colab": {
          "base_uri": "https://localhost:8080/",
          "height": 489
        },
        "id": "MR-uJ9_dCUpQ",
        "outputId": "6c382247-a4ab-4873-f7e2-ba73d8eb7fca"
      },
      "execution_count": 6,
      "outputs": [
        {
          "output_type": "stream",
          "name": "stdout",
          "text": [
            "Average Reward: 7.89\n"
          ]
        },
        {
          "output_type": "display_data",
          "data": {
            "text/plain": [
              "<Figure size 640x480 with 1 Axes>"
            ],
            "image/png": "[encoded data removed]"
          },
          "metadata": {}
        }
      ]
    }
  ]
}